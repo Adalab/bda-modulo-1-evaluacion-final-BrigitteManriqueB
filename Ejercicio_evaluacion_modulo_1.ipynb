{
 "cells": [
  {
   "cell_type": "markdown",
   "metadata": {},
   "source": [
    "## Ejercicio Final Módulo 1"
   ]
  },
  {
   "cell_type": "markdown",
   "metadata": {},
   "source": [
    "##### === Brigitte J. Manrique Báez ==="
   ]
  },
  {
   "cell_type": "markdown",
   "metadata": {},
   "source": [
    "### En este ejercicio, dentro de las diferentes tareas que haremos, tenemos: \n",
    "\n",
    "    - Se crea una lista con productos de rehabilitación física. \n",
    "    - Se muestra el inventario de la tienda.\n",
    "    - Se buscan productos por su nombre y se muestran sus detalles si se encuentra ya registrado. \n",
    "    - Se actualiza el stock. \n",
    "    - Se elimina un producto.\n",
    "    - Se calcula el valor total del inventario.\n",
    "    - Se procesa un pago.\n",
    "    - Se agregan más clientes al diccionario. \n",
    "    - Se visualizan los clientes. \n",
    "    - Se registra una compra para un cliente.\n",
    "    - Se miran las compras del cliente."
   ]
  },
  {
   "cell_type": "markdown",
   "metadata": {},
   "source": [
    "### Estructura 1: Lista de diccionarios con productos."
   ]
  },
  {
   "cell_type": "code",
   "execution_count": 112,
   "metadata": {},
   "outputs": [],
   "source": [
    "# Se crea la lista vacia:\n",
    "\n",
    "inventario = []"
   ]
  },
  {
   "cell_type": "markdown",
   "metadata": {},
   "source": [
    "### Estructura 2: Diccionario de clientes."
   ]
  },
  {
   "cell_type": "code",
   "execution_count": 113,
   "metadata": {},
   "outputs": [],
   "source": [
    "# Se crea un diccionario de clientes vacio:\n",
    "\n",
    "clientes = {}"
   ]
  },
  {
   "cell_type": "markdown",
   "metadata": {},
   "source": [
    "### Estructura 3: Ventas totales."
   ]
  },
  {
   "cell_type": "markdown",
   "metadata": {},
   "source": [
    "Variable que iniciamos con valor 0"
   ]
  },
  {
   "cell_type": "code",
   "execution_count": 114,
   "metadata": {},
   "outputs": [],
   "source": [
    "ventas_totales = 0"
   ]
  },
  {
   "cell_type": "markdown",
   "metadata": {},
   "source": [
    "### Desarrollo de funciones"
   ]
  },
  {
   "cell_type": "markdown",
   "metadata": {},
   "source": [
    "Función 1. `agregar_producto(nombre, precio, cantidad)`: \n",
    "\n",
    "- Esta función agrega un producto al inventario o actualiza su cantidad si ya existe. Debe recibir el nombre, precio y cantidad del producto como parámetros.  \n",
    "- Itera a través del inventario y compara los nombres de los productos con el nombre proporcionado. \n",
    "\n",
    "      - Si el producto ya existe, actualiza la cantidad. \n",
    "      - Si no existe, agrega un nuevo producto al inventario."
   ]
  },
  {
   "cell_type": "code",
   "execution_count": 115,
   "metadata": {},
   "outputs": [],
   "source": [
    "# Función 1: Agregamos productos al inventario\n",
    "\n",
    "def agregar_productos(nombre, precio, cantidad):\n",
    "    # Verificamos si el producto está en la lista, o no.\n",
    "    for producto in inventario:\n",
    "        if producto ['Nombre'] == nombre:\n",
    "            print (nombre, 'ya existe en el inventario. Se actualiza su stock')\n",
    "            producto['Cantidad'] += cantidad \n",
    "            return # Nos devolverá el valor más adelante.\n",
    "    # Si no está, lo agregamos. Este paso no hace falta que esté dentro de la iteración porque el bucle es para comprobar si el producto está o no.\n",
    "    nuevo_producto = {\n",
    "        'Nombre': nombre, \n",
    "        'Precio': precio, \n",
    "        'Cantidad': cantidad\n",
    "            }\n",
    "    inventario.append(nuevo_producto)"
   ]
  },
  {
   "cell_type": "code",
   "execution_count": 116,
   "metadata": {},
   "outputs": [],
   "source": [
    "# Para que se ejecute la función, primero debemos llamarla.\n",
    "\n",
    "agregar_productos('Tablero Canadiense', 45, 30)"
   ]
  },
  {
   "cell_type": "code",
   "execution_count": 117,
   "metadata": {},
   "outputs": [
    {
     "data": {
      "text/plain": [
       "[{'Nombre': 'Tablero Canadiense', 'Precio': 45, 'Cantidad': 30}]"
      ]
     },
     "execution_count": 117,
     "metadata": {},
     "output_type": "execute_result"
    }
   ],
   "source": [
    "# Para comprobar si se ha agregado el producto\n",
    "inventario"
   ]
  },
  {
   "cell_type": "code",
   "execution_count": 118,
   "metadata": {},
   "outputs": [
    {
     "name": "stdout",
     "output_type": "stream",
     "text": [
      "Tablero Canadiense ya existe en el inventario. Se actualiza su stock\n"
     ]
    }
   ],
   "source": [
    "agregar_productos('Ejercitador de muñeca', 203, 10)\n",
    "agregar_productos('Cabestrillo transpirable', 12, 200)\n",
    "agregar_productos('Rueda de hombro', 395, 12)\n",
    "agregar_productos('Tablero Canadiense', 45, 5)"
   ]
  },
  {
   "cell_type": "code",
   "execution_count": 119,
   "metadata": {},
   "outputs": [
    {
     "data": {
      "text/plain": [
       "[{'Nombre': 'Tablero Canadiense', 'Precio': 45, 'Cantidad': 35},\n",
       " {'Nombre': 'Ejercitador de muñeca', 'Precio': 203, 'Cantidad': 10},\n",
       " {'Nombre': 'Cabestrillo transpirable', 'Precio': 12, 'Cantidad': 200},\n",
       " {'Nombre': 'Rueda de hombro', 'Precio': 395, 'Cantidad': 12}]"
      ]
     },
     "execution_count": 119,
     "metadata": {},
     "output_type": "execute_result"
    }
   ],
   "source": [
    "# Comprobamos que se ha actualizado el producto ya existente:\n",
    "inventario"
   ]
  },
  {
   "cell_type": "markdown",
   "metadata": {},
   "source": [
    "Función 2. `ver_inventario()`: \n",
    "\n",
    "- Muestra el inventario de productos con sus detalles. \n",
    "- Imprime los detalles (nombre, precio, cantidad) de cada producto."
   ]
  },
  {
   "cell_type": "code",
   "execution_count": 120,
   "metadata": {},
   "outputs": [],
   "source": [
    "def mostrar_inventario(inventario):\n",
    "    for producto in inventario:\n",
    "        # Ver los detalles de los productos en pantalla cuando se llame a la función.  \n",
    "        print('Nombre:', producto['Nombre'], ', Precio:', producto ['Precio'],'€' ', Cantidad:', producto ['Cantidad'])\n",
    "        "
   ]
  },
  {
   "cell_type": "code",
   "execution_count": 121,
   "metadata": {},
   "outputs": [
    {
     "name": "stdout",
     "output_type": "stream",
     "text": [
      "Nombre: Tablero Canadiense , Precio: 45 €, Cantidad: 35\n",
      "Nombre: Ejercitador de muñeca , Precio: 203 €, Cantidad: 10\n",
      "Nombre: Cabestrillo transpirable , Precio: 12 €, Cantidad: 200\n",
      "Nombre: Rueda de hombro , Precio: 395 €, Cantidad: 12\n"
     ]
    }
   ],
   "source": [
    "mostrar_inventario(inventario)"
   ]
  },
  {
   "cell_type": "markdown",
   "metadata": {},
   "source": [
    " Función 3. `buscar_producto(nombre)`: \n",
    " \n",
    " - Busca un producto en el inventario por nombre y muestra sus detalles si se encuentra. \n",
    " - Debe recibir el nombre del producto como parámetro. \n",
    " - Compara los nombres de los productos con el nombre proporcionado. \n",
    " - Si se encuentra el producto, imprime sus detalles."
   ]
  },
  {
   "cell_type": "code",
   "execution_count": 122,
   "metadata": {},
   "outputs": [],
   "source": [
    "def buscar_productos(nombre):\n",
    "    for producto in inventario:\n",
    "        #Verificamos si el producto está\n",
    "        if producto['Nombre'].lower() == nombre.lower():\n",
    "            # Mostramos los detalles por pantalla cuando la función sea llamada.\n",
    "            print('Nombre:', producto['Nombre'], ', Precio:', producto ['Precio'],'€' ', Cantidad:', producto ['Cantidad'])"
   ]
  },
  {
   "cell_type": "code",
   "execution_count": 123,
   "metadata": {},
   "outputs": [
    {
     "name": "stdout",
     "output_type": "stream",
     "text": [
      "Nombre: Tablero Canadiense , Precio: 45 €, Cantidad: 35\n"
     ]
    }
   ],
   "source": [
    "buscar_productos('Tablero Canadiense')"
   ]
  },
  {
   "cell_type": "markdown",
   "metadata": {},
   "source": [
    " Función 4. `actualizar_stock(nombre, cantidad)`: \n",
    " \n",
    "   - Actualiza el stock de un producto en el inventario. \n",
    "   - Debe recibir el nombre del producto y la cantidad a agregar o quitar como parámetros. \n",
    "   - Busca el producto por nombre.\n",
    "   - Actualiza la cantidad según la entrada del usuario. \n",
    "   - Si el producto no esta en el inventario muestra un mensaje indicándolo."
   ]
  },
  {
   "cell_type": "code",
   "execution_count": 124,
   "metadata": {},
   "outputs": [],
   "source": [
    "def actualizar_stock(nombre, cantidad):\n",
    "    #Verificamos si el producto está o no\n",
    "    for producto in inventario:\n",
    "        if producto ['Nombre'].lower() == nombre.lower():\n",
    "            # Si está actualizamos su stock\n",
    "            print('El producto si existe y se va a actualizar')\n",
    "            producto ['Cantidad'] += cantidad\n",
    "            print('La cantidad del producto', producto ['Nombre'], 'se ha actualizado a', producto ['Cantidad'], 'unidades en total.')\n",
    "            return\n",
    "    else:\n",
    "        print('Este producto no existe en el inventario')\n",
    "\n",
    "    "
   ]
  },
  {
   "cell_type": "code",
   "execution_count": 125,
   "metadata": {},
   "outputs": [
    {
     "name": "stdout",
     "output_type": "stream",
     "text": [
      "Este producto no existe en el inventario\n"
     ]
    }
   ],
   "source": [
    "actualizar_stock('Pelota', 20)"
   ]
  },
  {
   "cell_type": "markdown",
   "metadata": {},
   "source": [
    "Función 5. `eliminar_producto(nombre)`: \n",
    "- Elimina un producto del inventario por nombre. \n",
    "    - Busca el producto por nombre. \n",
    "        - Elimina el producto del inventario si existe. \n",
    "        - Si el producto no esta en el inventario muestra un mensaje indicándolo."
   ]
  },
  {
   "cell_type": "code",
   "execution_count": 126,
   "metadata": {},
   "outputs": [],
   "source": [
    "def eliminar_producto(nombre):\n",
    "  for producto in inventario:\n",
    "    if producto ['Nombre'] == nombre:\n",
    "      #Aplicamos al inventario el método remove para eliminar el producto de la lista, no solo que lo quite de la lista.\n",
    "      inventario.remove(producto)\n",
    "      print(f'El producto {nombre} se acaba de eliminar')\n",
    "      return\n",
    "  else:\n",
    "      print(f'El producto {nombre} no existe' )"
   ]
  },
  {
   "cell_type": "code",
   "execution_count": 127,
   "metadata": {},
   "outputs": [
    {
     "name": "stdout",
     "output_type": "stream",
     "text": [
      "El producto Tablero Canadiense se acaba de eliminar\n"
     ]
    }
   ],
   "source": [
    "eliminar_producto('Tablero Canadiense')"
   ]
  },
  {
   "cell_type": "code",
   "execution_count": 128,
   "metadata": {},
   "outputs": [
    {
     "data": {
      "text/plain": [
       "[{'Nombre': 'Ejercitador de muñeca', 'Precio': 203, 'Cantidad': 10},\n",
       " {'Nombre': 'Cabestrillo transpirable', 'Precio': 12, 'Cantidad': 200},\n",
       " {'Nombre': 'Rueda de hombro', 'Precio': 395, 'Cantidad': 12}]"
      ]
     },
     "execution_count": 128,
     "metadata": {},
     "output_type": "execute_result"
    }
   ],
   "source": [
    "inventario"
   ]
  },
  {
   "cell_type": "markdown",
   "metadata": {},
   "source": [
    "Función 6. `calcular_valor_inventario()`: \n",
    "\n",
    "- Calcula y muestra el valor total del inventario.  \n",
    "    "
   ]
  },
  {
   "cell_type": "code",
   "execution_count": 131,
   "metadata": {},
   "outputs": [],
   "source": [
    "def calcular_valor_inventario (inventario=inventario):\n",
    "    #Para iniciar la suma de los elementos de una lista, debemos inicializar con una variable con el valor cero. Esta variable irá agergando los resultados de dicha suma.\n",
    "    suma_total = 0\n",
    "    for producto in inventario:\n",
    "        # Para hacer el calculo de cada producto, multiplicamos su precio por la cantidad que hay en stock\n",
    "        precio_total = producto['Cantidad'] * producto ['Precio']\n",
    "        print('La suma total del producto', producto['Nombre'], 'es igual a', precio_total,'€')\n",
    "        suma_total += precio_total # Se van guardando los resultados de la suma en la variable.\n",
    "    print('El precio total del inventario es:', suma_total,'€')\n",
    "    return"
   ]
  },
  {
   "cell_type": "code",
   "execution_count": 132,
   "metadata": {},
   "outputs": [
    {
     "name": "stdout",
     "output_type": "stream",
     "text": [
      "La suma total del producto Ejercitador de muñeca es igual a 2030 €\n",
      "La suma total del producto Cabestrillo transpirable es igual a 2400 €\n",
      "La suma total del producto Rueda de hombro es igual a 4740 €\n",
      "El precio total del inventario es: 9170 €\n"
     ]
    }
   ],
   "source": [
    "calcular_valor_inventario()"
   ]
  },
  {
   "cell_type": "markdown",
   "metadata": {},
   "source": [
    "Función 7. `realizar_compra()`: \n",
    "- Permite a un cliente realizar una compra seleccionando productos del inventario. Debe interactuar con el cliente para seleccionar productos y calcular el costo total de la compra. \n",
    "     - Utiliza un bucle `while` para permitir al cliente realizar múltiples compras. \n",
    " \n",
    "     - Muestra el inventario y solicita al cliente ingresar el nombre del producto que desea comprar. \n",
    " \n",
    "     - Registra los productos seleccionados en un carrito y actualiza el inventario."
   ]
  },
  {
   "cell_type": "code",
   "execution_count": 133,
   "metadata": {},
   "outputs": [],
   "source": [
    "    # Pasos:\n",
    "        # Defino la función (OK)\n",
    "        # Defino las variables que necesito y que no tengo antes de empezar el bucle:\n",
    "            # En este caso las variables estarán dentro de la función, serán locales. (OK)\n",
    "        # Inicio el blucle con while\n",
    "            # Creo las variables necesarias dentro del bucle para ir interaccionando con el cliente (OK)\n",
    "            # Uso un bucle for para recorrer los productos del inventario y actualizarlo, así como agregar o registrar la compra."
   ]
  },
  {
   "cell_type": "code",
   "execution_count": 134,
   "metadata": {},
   "outputs": [],
   "source": [
    "def realizar_compra(inventario=inventario):\n",
    "    # El coste de la compra la inicializamos a cero, e iremos agregando su valor según lo que vaya eligiendo el cliente.\n",
    "    coste_total = 0 \n",
    "    # Creamos una variable para ir agregando los productos que vaya eligiendo el cliente.  La creamos como lista vacía.\n",
    "    carrito = []\n",
    "    # Para iniciar el proceso de compra, y recorre la lista que mostraremos al cliente, usamos bucle while, ya que no sabemos cuántos productos va a comprar.\n",
    "    hacer_compra = True\n",
    "    while hacer_compra:\n",
    "        print('A continuación verá los productos que tenemos en la tienda: ' )\n",
    "        for producto in inventario:\n",
    "            print('Nombre:', producto['Nombre'], ', Precio:', producto ['Precio'],'€' ', Cantidad:', producto ['Cantidad'])\n",
    "            print ('================================================================')\n",
    "        # Creamos una variable donde se indica al cliente que elija el producto\n",
    "        seleccion_producto = input('Seleccione el producto que desea comprar: ').lower()\n",
    "        print ('Se ha agregado el producto', seleccion_producto, 'al carrito.')\n",
    "        # Creamos una variable donde se indica al cliente que elija la cantidad del producto seleccionado\n",
    "        unidades = int(input('Elija la cantidad de unidades que desea comprar del producto seleccionado:' ))\n",
    "        for seleccion_producto in inventario:\n",
    "            if unidades < producto ['Cantidad']:\n",
    "                carrito.append({'Nombre:', producto['Nombre'], ', Precio:', producto ['Precio'],'€' 'Cantidad:', unidades})\n",
    "                coste_total += seleccion_producto ['Precio'] * unidades # Usamos la variable para conocer el coste total de la compra\n",
    "                print('El total de su compra es: ', coste_total,'€')\n",
    "                producto['Cantidad'] -= unidades # Actualizamos la cantidad del producto.\n",
    "                break\n",
    "            else:\n",
    "                print('Lo sentimos pero la cantidad seleccionada es superior a la que tenemos en tienda. Inténtelo de nuevo.')\n",
    "        nuevo_intento = input('Quiere agregar otro producto de nuevo? Sí (S) o No (N): ').lower\n",
    "        if nuevo_intento == 'S':\n",
    "            return hacer_compra\n",
    "        else:\n",
    "            break\n",
    "    print('Puede continuar con el proceso de pago')   \n",
    "       "
   ]
  },
  {
   "cell_type": "code",
   "execution_count": 135,
   "metadata": {},
   "outputs": [
    {
     "name": "stdout",
     "output_type": "stream",
     "text": [
      "A continuación verá los productos que tenemos en la tienda: \n",
      "Nombre: Ejercitador de muñeca , Precio: 203 €, Cantidad: 10\n",
      "================================================================\n",
      "Nombre: Cabestrillo transpirable , Precio: 12 €, Cantidad: 200\n",
      "================================================================\n",
      "Nombre: Rueda de hombro , Precio: 395 €, Cantidad: 12\n",
      "================================================================\n",
      "Se ha agregado el producto ejercitador de muñeca al carrito.\n",
      "El total de su compra es:  406 €\n",
      "Puede continuar con el proceso de pago\n"
     ]
    }
   ],
   "source": [
    "realizar_compra()"
   ]
  },
  {
   "cell_type": "markdown",
   "metadata": {},
   "source": [
    "Función 8. `procesar_pago()`:\n",
    " \n",
    "- Procesa el pago de una compra, calcula el cambio y muestra un mensaje de confirmación. \n",
    "      \n",
    "   - Utiliza un bloque `try...except` para manejar excepciones. \n",
    "   - Solicita al cliente ingresar la cantidad total y la cantidad de pago usando un input.       \n",
    "   - Calcula el cambio y muestra un mensaje de pago exitoso o un error en caso de monto insuficiente."
   ]
  },
  {
   "cell_type": "code",
   "execution_count": 136,
   "metadata": {},
   "outputs": [],
   "source": [
    "    # Pasos:\n",
    "        # Se define la función\n",
    "        # Se definen las variables que necesito para almacenar las cantidades que introduzca el cliente.\n",
    "        # Se define variable para almacenar la diferencia o cambio que hay que darle al cliente\n",
    "        # Se usa try (por los errores que pueda cometer el cliente al introducir los datos ) y except(para manejar el error )"
   ]
  },
  {
   "cell_type": "code",
   "execution_count": 137,
   "metadata": {},
   "outputs": [],
   "source": [
    "def procesar_pago():\n",
    "    try:\n",
    "        precio_total_compra = float(input('Ingrese el precio total de la compra: '))\n",
    "        print('El precio total de la compra es:', precio_total_compra,'€')\n",
    "        cantidad_introducida = float(input('Ingrese la cantidad que tiene para pagar esta compra: '))\n",
    "        print('Has introducido', cantidad_introducida,'€')\n",
    "        cambio_cliente = (cantidad_introducida - precio_total_compra) # Variable para calcular la diferencia o cambio entre cantidades\n",
    "        if cambio_cliente > 0: \n",
    "            print('El pago se ha realizado con éxito')\n",
    "        elif cambio_cliente < 0:\n",
    "            print('No puede realizar el pago porque la cantidad que tiene para pagar no es suficiente. Inténtelo de nuevo')\n",
    "        \n",
    "          \n",
    "    except ValueError:\n",
    "        print('El pago que has intentado hacer ha fallado')"
   ]
  },
  {
   "cell_type": "code",
   "execution_count": 111,
   "metadata": {},
   "outputs": [
    {
     "name": "stdout",
     "output_type": "stream",
     "text": [
      "El precio total de la compra es: 50.0 €\n",
      "Has introducido 20.0 €\n",
      "No puede realizar el pago porque la cantidad que tiene para pagar no es suficiente. Intentelo de nuevo\n"
     ]
    }
   ],
   "source": [
    "procesar_pago()"
   ]
  },
  {
   "cell_type": "markdown",
   "metadata": {},
   "source": [
    "Función 9. `agregar_cliente(nombre, email)`: \n",
    "\n",
    "- Agrega un nuevo cliente al registro de clientes. \n",
    "    - Agrega un cliente al diccionario de clientes con su nombre y correo electrónico. "
   ]
  },
  {
   "cell_type": "code",
   "execution_count": 138,
   "metadata": {},
   "outputs": [],
   "source": [
    "def agregar_cliente(nombre, email):\n",
    "    # Agregamos un identificador de número de cliente para que vaya sumando cada vez que agregamos un nuevo cliente al diccionario.\n",
    "    cliente_x = 'Cliente', len(clientes) + 1\n",
    "    # Para agregar nuevos clientes al diccionario agregamos la nueva clave y le damos un valor.\n",
    "    clientes [cliente_x] = {\n",
    "        'nombre' : nombre, \n",
    "        'email': email} \n",
    "    print(clientes)\n",
    "    "
   ]
  },
  {
   "cell_type": "code",
   "execution_count": 139,
   "metadata": {},
   "outputs": [
    {
     "name": "stdout",
     "output_type": "stream",
     "text": [
      "{('Cliente', 1): {'nombre': 'Maria Fernández', 'email': 'maria@gmail.com'}}\n"
     ]
    }
   ],
   "source": [
    "agregar_cliente('Maria Fernández', 'maria@gmail.com')"
   ]
  },
  {
   "cell_type": "code",
   "execution_count": 140,
   "metadata": {},
   "outputs": [
    {
     "name": "stdout",
     "output_type": "stream",
     "text": [
      "{('Cliente', 1): {'nombre': 'Maria Fernández', 'email': 'maria@gmail.com'}, ('Cliente', 2): {'nombre': 'Fernando Jiménez', 'email': 'fer21@gmail.com'}}\n"
     ]
    }
   ],
   "source": [
    "agregar_cliente('Fernando Jiménez', 'fer21@gmail.com')"
   ]
  },
  {
   "cell_type": "code",
   "execution_count": 141,
   "metadata": {},
   "outputs": [
    {
     "name": "stdout",
     "output_type": "stream",
     "text": [
      "{('Cliente', 1): {'nombre': 'Maria Fernández', 'email': 'maria@gmail.com'}, ('Cliente', 2): {'nombre': 'Fernando Jiménez', 'email': 'fer21@gmail.com'}, ('Cliente', 3): {'nombre': 'Patricia Gómez', 'email': 'patri30@gmail.com'}}\n"
     ]
    }
   ],
   "source": [
    "agregar_cliente('Patricia Gómez', 'patri30@gmail.com')"
   ]
  },
  {
   "cell_type": "markdown",
   "metadata": {},
   "source": [
    "\n",
    "Función 10. `ver_clientes()`\n",
    "\n",
    "- Muestra la lista de clientes registrados con sus nombres y correos electrónicos. \n",
    "- Utiliza un bucle `for` para recorrer la base de datos de clientes. \n",
    "- Imprime los detalles de cada cliente (nombre y correo electrónico)."
   ]
  },
  {
   "cell_type": "code",
   "execution_count": 142,
   "metadata": {},
   "outputs": [],
   "source": [
    "def ver_clientes(clientes):\n",
    "    # Al seguir con un diccionario, usamos el método items para que recorra tanto el valor como su clave.\n",
    "    for cliente in clientes.items():\n",
    "       # Para poder visualizar este diccionario como una lista, debemos agregar: list.\n",
    "       print(list(cliente))\n",
    "    \n"
   ]
  },
  {
   "cell_type": "code",
   "execution_count": 143,
   "metadata": {},
   "outputs": [
    {
     "name": "stdout",
     "output_type": "stream",
     "text": [
      "[('Cliente', 1), {'nombre': 'Maria Fernández', 'email': 'maria@gmail.com'}]\n",
      "[('Cliente', 2), {'nombre': 'Fernando Jiménez', 'email': 'fer21@gmail.com'}]\n",
      "[('Cliente', 3), {'nombre': 'Patricia Gómez', 'email': 'patri30@gmail.com'}]\n"
     ]
    }
   ],
   "source": [
    "ver_clientes(clientes)"
   ]
  },
  {
   "cell_type": "markdown",
   "metadata": {},
   "source": [
    "Función 11. `registrar_compra(nombre_cliente, carrito)`: \n",
    "\n",
    "- Registra una compra para un cliente, actualiza las ventas totales y agrega la compra al historial del cliente. Debe recibir el nombre del cliente y el carrito de compras como parámetros. \n",
    " \n",
    "- Busca al cliente en el diccionario de clientes. \n",
    " \n",
    "- Si el cliente no esta en el diccionario de clientes, muestra que no se puede realizar la acción por que el cliente no está en el diccionario.  \n",
    " \n",
    "- Calcula el total de la compra y registra la compra, incluyendo los productos y el total."
   ]
  },
  {
   "cell_type": "code",
   "execution_count": null,
   "metadata": {},
   "outputs": [],
   "source": [
    "# Se define la función\n",
    "# Se agregan dos parámetros:nombre y compra\n",
    "# Se busca al cliente dentro del diccionario.\n",
    "    # Si el cliente no está,se pone mensaje indicándolo --- (control de flujo)\n",
    "    # Si está, se calcula y registra (añade) la compra. Se incluye también productos y total.\n",
    "\n",
    "\n",
    "ventas_totales = 0\n",
    "\n",
    "def registrar_compra(nombre,compra):\n",
    "    total_compra = 0\n",
    "    historial_compra = []\n",
    "    "
   ]
  },
  {
   "cell_type": "code",
   "execution_count": null,
   "metadata": {},
   "outputs": [],
   "source": [
    "registrar_compra()"
   ]
  },
  {
   "cell_type": "markdown",
   "metadata": {},
   "source": [
    "Función 12. `ver_compras_cliente(nombre_cliente)`: \n",
    "\n",
    "- Muestra el historial de compras de un cliente. Debe recibir el nombre del cliente como parámetro. \n",
    " \n",
    "- Busca al cliente en el diccionario de clientes. \n",
    " \n",
    "- Muestra las compras realizadas por el cliente, incluyendo detalles de productos y totales."
   ]
  },
  {
   "cell_type": "code",
   "execution_count": null,
   "metadata": {},
   "outputs": [],
   "source": [
    "# Se define la función.\n",
    "# Se agrega como parámetro el nombre del cliente\n",
    "# Se crea una variable para mostrar las compras que ha hecho el cliente\n",
    "# SE muestra por pantalla las compras realizadas por el cliente.\n",
    "\n",
    "def ver_compras_cliente(nombre):\n",
    "    ventas_totales = 0\n",
    "    compras_realizadas = 0 # se inicializa con cero e ir sumando las compras hechas."
   ]
  },
  {
   "cell_type": "code",
   "execution_count": null,
   "metadata": {},
   "outputs": [],
   "source": [
    "ver_compras_cliente()"
   ]
  },
  {
   "cell_type": "markdown",
   "metadata": {},
   "source": [
    "Función 13. `calcular_ventas_totales()`: \n",
    "\n",
    "- Muestra las ventas totales de la tienda. \n",
    " \n",
    "- Suma los totales de todas las compras realizadas y muestra el total de ventas totales en la tienda."
   ]
  },
  {
   "cell_type": "code",
   "execution_count": null,
   "metadata": {},
   "outputs": [],
   "source": [
    "# Se define función\n",
    "\n",
    "def calcular_ventas_totales():\n"
   ]
  },
  {
   "cell_type": "code",
   "execution_count": null,
   "metadata": {},
   "outputs": [],
   "source": [
    "calcular_ventas_totales()"
   ]
  }
 ],
 "metadata": {
  "kernelspec": {
   "display_name": "base",
   "language": "python",
   "name": "python3"
  },
  "language_info": {
   "codemirror_mode": {
    "name": "ipython",
    "version": 3
   },
   "file_extension": ".py",
   "mimetype": "text/x-python",
   "name": "python",
   "nbconvert_exporter": "python",
   "pygments_lexer": "ipython3",
   "version": "3.12.4"
  }
 },
 "nbformat": 4,
 "nbformat_minor": 2
}
