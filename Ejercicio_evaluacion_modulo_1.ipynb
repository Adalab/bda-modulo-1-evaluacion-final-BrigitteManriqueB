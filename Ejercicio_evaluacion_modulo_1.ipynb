{
 "cells": [
  {
   "cell_type": "markdown",
   "metadata": {},
   "source": [
    "## Ejercicio Final Módulo 1"
   ]
  },
  {
   "cell_type": "markdown",
   "metadata": {},
   "source": [
    "##### === Brigitte J. Manrique Báez ==="
   ]
  },
  {
   "cell_type": "markdown",
   "metadata": {},
   "source": [
    "### En este ejercicio, dentro de las diferentes tareas que haremos, tenemos: \n",
    "\n",
    "    - Se crea una lista con productos de rehabilitación física. \n",
    "    - Se muestra el inventario de la tienda.\n",
    "    - Se buscan productos por su nombre y se muestran sus detalles si se encuentra ya registrado. \n",
    "    - Se actualiza el stock. \n",
    "    - Se elimina un producto.\n",
    "    - Se calcula el valor total del inventario.\n",
    "    - Se procesa un pago.\n",
    "    - Se agregan más clientes al diccionario. \n",
    "    - Se visualizan los clientes. \n",
    "    - Se registra una compra para un cliente.\n",
    "    - Se miran las compras del cliente."
   ]
  },
  {
   "cell_type": "markdown",
   "metadata": {},
   "source": [
    "### Estructura 1: Lista de diccionarios con productos."
   ]
  },
  {
   "cell_type": "code",
   "execution_count": 9,
   "metadata": {},
   "outputs": [],
   "source": [
    "# Se crea la lista vacia:\n",
    "\n",
    "inventario = []"
   ]
  },
  {
   "cell_type": "markdown",
   "metadata": {},
   "source": [
    "### Estructura 2: Diccionario de clientes."
   ]
  },
  {
   "cell_type": "code",
   "execution_count": 10,
   "metadata": {},
   "outputs": [],
   "source": [
    "# Se crea un diccionario de clientes vacio:\n",
    "\n",
    "clientes = {}"
   ]
  },
  {
   "cell_type": "markdown",
   "metadata": {},
   "source": [
    "### Estructura 3: Ventas totales."
   ]
  },
  {
   "cell_type": "markdown",
   "metadata": {},
   "source": [
    "Variable que iniciamos con valor 0"
   ]
  },
  {
   "cell_type": "code",
   "execution_count": 11,
   "metadata": {},
   "outputs": [],
   "source": [
    "ventas_totales = 0"
   ]
  },
  {
   "cell_type": "markdown",
   "metadata": {},
   "source": [
    "### Desarrollo de funciones"
   ]
  },
  {
   "cell_type": "markdown",
   "metadata": {},
   "source": [
    "Función 1. `agregar_producto(nombre, precio, cantidad)`: \n",
    "\n",
    "- Esta función agrega un producto al inventario o actualiza su cantidad si ya existe. Debe recibir el nombre, precio y cantidad del producto como parámetros.  \n",
    "- Itera a través del inventario y compara los nombres de los productos con el nombre proporcionado. \n",
    "\n",
    "      - Si el producto ya existe, actualiza la cantidad. \n",
    "      - Si no existe, agrega un nuevo producto al inventario."
   ]
  },
  {
   "cell_type": "code",
   "execution_count": 12,
   "metadata": {},
   "outputs": [],
   "source": [
    "# Función 1: Agregamos productos al inventario\n",
    "\n",
    "def agregar_productos(nombre, precio, cantidad):\n",
    "    # Verificamos si el producto está en la lista, o no.\n",
    "    for producto in inventario:\n",
    "        if producto ['Nombre'] == nombre:\n",
    "            print (nombre, 'ya existe en el inventario. Se actualiza su stock')\n",
    "            producto['Cantidad'] += cantidad \n",
    "            return # Nos devolverá el valor más adelante.\n",
    "    # Si no está, lo agregamos. Este paso no hace falta que esté dentro de la iteración porque el bucle es para comprobar si el producto está o no.\n",
    "    nuevo_producto = {\n",
    "        'Nombre': nombre, \n",
    "        'Precio': precio, \n",
    "        'Cantidad': cantidad\n",
    "            }\n",
    "    inventario.append(nuevo_producto)"
   ]
  },
  {
   "cell_type": "code",
   "execution_count": 13,
   "metadata": {},
   "outputs": [],
   "source": [
    "# Para que se ejecute la función, primero debemos llamarla.\n",
    "\n",
    "agregar_productos('Tablero Canadiense', 45, 30)"
   ]
  },
  {
   "cell_type": "code",
   "execution_count": 14,
   "metadata": {},
   "outputs": [
    {
     "data": {
      "text/plain": [
       "[{'Nombre': 'Tablero Canadiense', 'Precio': 45, 'Cantidad': 30}]"
      ]
     },
     "execution_count": 14,
     "metadata": {},
     "output_type": "execute_result"
    }
   ],
   "source": [
    "# Para comprobar si se ha agregado el producto\n",
    "inventario"
   ]
  },
  {
   "cell_type": "code",
   "execution_count": 15,
   "metadata": {},
   "outputs": [
    {
     "name": "stdout",
     "output_type": "stream",
     "text": [
      "Tablero Canadiense ya existe en el inventario. Se actualiza su stock\n"
     ]
    }
   ],
   "source": [
    "agregar_productos('Ejercitador de muñeca', 203, 10)\n",
    "agregar_productos('Cabestrillo transpirable', 12, 200)\n",
    "agregar_productos('Rueda de hombro', 395, 12)\n",
    "agregar_productos('Tablero Canadiense', 45, 5)"
   ]
  },
  {
   "cell_type": "code",
   "execution_count": 16,
   "metadata": {},
   "outputs": [
    {
     "data": {
      "text/plain": [
       "[{'Nombre': 'Tablero Canadiense', 'Precio': 45, 'Cantidad': 35},\n",
       " {'Nombre': 'Ejercitador de muñeca', 'Precio': 203, 'Cantidad': 10},\n",
       " {'Nombre': 'Cabestrillo transpirable', 'Precio': 12, 'Cantidad': 200},\n",
       " {'Nombre': 'Rueda de hombro', 'Precio': 395, 'Cantidad': 12}]"
      ]
     },
     "execution_count": 16,
     "metadata": {},
     "output_type": "execute_result"
    }
   ],
   "source": [
    "# Comprobamos que se ha actualizado el producto ya existente:\n",
    "inventario"
   ]
  },
  {
   "cell_type": "markdown",
   "metadata": {},
   "source": [
    "Función 2. `ver_inventario()`: \n",
    "\n",
    "- Muestra el inventario de productos con sus detalles. \n",
    "- Imprime los detalles (nombre, precio, cantidad) de cada producto."
   ]
  },
  {
   "cell_type": "code",
   "execution_count": 17,
   "metadata": {},
   "outputs": [],
   "source": [
    "def mostrar_inventario(inventario):\n",
    "    for producto in inventario:\n",
    "        # Ver los detalles de los productos en pantalla cuando se llame a la función.  \n",
    "        print('Nombre:', producto['Nombre'], ', Precio:', producto ['Precio'],'€' ', Cantidad:', producto ['Cantidad'])\n",
    "        "
   ]
  },
  {
   "cell_type": "code",
   "execution_count": 18,
   "metadata": {},
   "outputs": [
    {
     "name": "stdout",
     "output_type": "stream",
     "text": [
      "Nombre: Tablero Canadiense , Precio: 45 €, Cantidad: 35\n",
      "Nombre: Ejercitador de muñeca , Precio: 203 €, Cantidad: 10\n",
      "Nombre: Cabestrillo transpirable , Precio: 12 €, Cantidad: 200\n",
      "Nombre: Rueda de hombro , Precio: 395 €, Cantidad: 12\n"
     ]
    }
   ],
   "source": [
    "mostrar_inventario(inventario)"
   ]
  },
  {
   "cell_type": "markdown",
   "metadata": {},
   "source": [
    " Función 3. `buscar_producto(nombre)`: \n",
    " \n",
    " - Busca un producto en el inventario por nombre y muestra sus detalles si se encuentra. \n",
    " - Debe recibir el nombre del producto como parámetro. \n",
    " - Compara los nombres de los productos con el nombre proporcionado. \n",
    " - Si se encuentra el producto, imprime sus detalles."
   ]
  },
  {
   "cell_type": "code",
   "execution_count": 19,
   "metadata": {},
   "outputs": [],
   "source": [
    "def buscar_productos(nombre):\n",
    "    for producto in inventario:\n",
    "        #Verificamos si el producto está\n",
    "        if producto['Nombre'].lower() == nombre.lower():\n",
    "            # Mostramos los detalles por pantalla cuando la función sea llamada.\n",
    "            print('Nombre:', producto['Nombre'], ', Precio:', producto ['Precio'],'€' ', Cantidad:', producto ['Cantidad'])"
   ]
  },
  {
   "cell_type": "code",
   "execution_count": 20,
   "metadata": {},
   "outputs": [
    {
     "name": "stdout",
     "output_type": "stream",
     "text": [
      "Nombre: Tablero Canadiense , Precio: 45 €, Cantidad: 35\n"
     ]
    }
   ],
   "source": [
    "buscar_productos('Tablero Canadiense')"
   ]
  },
  {
   "cell_type": "markdown",
   "metadata": {},
   "source": [
    " Función 4. `actualizar_stock(nombre, cantidad)`: \n",
    " \n",
    "   - Actualiza el stock de un producto en el inventario. \n",
    "   - Debe recibir el nombre del producto y la cantidad a agregar o quitar como parámetros. \n",
    "   - Busca el producto por nombre.\n",
    "   - Actualiza la cantidad según la entrada del usuario. \n",
    "   - Si el producto no esta en el inventario muestra un mensaje indicándolo."
   ]
  },
  {
   "cell_type": "code",
   "execution_count": 21,
   "metadata": {},
   "outputs": [],
   "source": [
    "def actualizar_stock(nombre, cantidad):\n",
    "    #Verificamos si el producto está o no\n",
    "    for producto in inventario:\n",
    "        if producto ['Nombre'].lower() == nombre.lower():\n",
    "            # Si está actualizamos su stock\n",
    "            print('El producto si existe y se va a actualizar')\n",
    "            producto ['Cantidad'] += cantidad\n",
    "            print('La cantidad del producto', producto ['Nombre'], 'se ha actualizado a', producto ['Cantidad'], 'unidades en total.')\n",
    "            return\n",
    "    else:\n",
    "        print('Este producto no existe en el inventario')\n",
    "\n",
    "    "
   ]
  },
  {
   "cell_type": "code",
   "execution_count": 22,
   "metadata": {},
   "outputs": [
    {
     "name": "stdout",
     "output_type": "stream",
     "text": [
      "Este producto no existe en el inventario\n"
     ]
    }
   ],
   "source": [
    "actualizar_stock('Pelota', 20)"
   ]
  },
  {
   "cell_type": "markdown",
   "metadata": {},
   "source": [
    "Función 5. `eliminar_producto(nombre)`: \n",
    "- Elimina un producto del inventario por nombre. \n",
    "    - Busca el producto por nombre. \n",
    "        - Elimina el producto del inventario si existe. \n",
    "        - Si el producto no esta en el inventario muestra un mensaje indicándolo."
   ]
  },
  {
   "cell_type": "code",
   "execution_count": 23,
   "metadata": {},
   "outputs": [],
   "source": [
    "def eliminar_producto(nombre):\n",
    "  for producto in inventario:\n",
    "    if producto ['Nombre'] == nombre:\n",
    "      #Aplicamos al inventario el método remove para eliminar el producto de la lista, no solo que lo quite de la lista.\n",
    "      inventario.remove(nombre)\n",
    "      print(f'El producto {nombre} se acaba de eliminar')\n",
    "      return\n",
    "  else:\n",
    "      print(f'El producto {nombre} no existe' )"
   ]
  },
  {
   "cell_type": "code",
   "execution_count": 24,
   "metadata": {},
   "outputs": [
    {
     "ename": "ValueError",
     "evalue": "list.remove(x): x not in list",
     "output_type": "error",
     "traceback": [
      "\u001b[1;31m---------------------------------------------------------------------------\u001b[0m",
      "\u001b[1;31mValueError\u001b[0m                                Traceback (most recent call last)",
      "Cell \u001b[1;32mIn[24], line 1\u001b[0m\n\u001b[1;32m----> 1\u001b[0m eliminar_producto(\u001b[38;5;124m'\u001b[39m\u001b[38;5;124mTablero Canadiense\u001b[39m\u001b[38;5;124m'\u001b[39m)\n",
      "Cell \u001b[1;32mIn[23], line 5\u001b[0m, in \u001b[0;36meliminar_producto\u001b[1;34m(nombre)\u001b[0m\n\u001b[0;32m      2\u001b[0m \u001b[38;5;28;01mfor\u001b[39;00m producto \u001b[38;5;129;01min\u001b[39;00m inventario:\n\u001b[0;32m      3\u001b[0m   \u001b[38;5;28;01mif\u001b[39;00m producto [\u001b[38;5;124m'\u001b[39m\u001b[38;5;124mNombre\u001b[39m\u001b[38;5;124m'\u001b[39m] \u001b[38;5;241m==\u001b[39m nombre:\n\u001b[0;32m      4\u001b[0m     \u001b[38;5;66;03m#Aplicamos al inventario el método remove para eliminar el producto de la lista, no solo que lo quite de la lista.\u001b[39;00m\n\u001b[1;32m----> 5\u001b[0m     inventario\u001b[38;5;241m.\u001b[39mremove(nombre)\n\u001b[0;32m      6\u001b[0m     \u001b[38;5;28mprint\u001b[39m(\u001b[38;5;124mf\u001b[39m\u001b[38;5;124m'\u001b[39m\u001b[38;5;124mEl producto \u001b[39m\u001b[38;5;132;01m{\u001b[39;00mnombre\u001b[38;5;132;01m}\u001b[39;00m\u001b[38;5;124m se acaba de eliminar\u001b[39m\u001b[38;5;124m'\u001b[39m)\n\u001b[0;32m      7\u001b[0m     \u001b[38;5;28;01mreturn\u001b[39;00m\n",
      "\u001b[1;31mValueError\u001b[0m: list.remove(x): x not in list"
     ]
    }
   ],
   "source": [
    "eliminar_producto('Tablero Canadiense')"
   ]
  },
  {
   "cell_type": "markdown",
   "metadata": {},
   "source": [
    "Función 6. `calcular_valor_inventario()`: \n",
    "\n",
    "- Calcula y muestra el valor total del inventario.  \n",
    "    "
   ]
  },
  {
   "cell_type": "code",
   "execution_count": 20,
   "metadata": {},
   "outputs": [],
   "source": [
    "def calcular_valor_inventario (inventario=inventario):\n",
    "    #Para iniciar la suma de los elementos de una lista, debemos inicializar con una variable con el valor cero. Esta variable irá agergando los resultados de dicha suma.\n",
    "    suma_total = 0\n",
    "    for producto in inventario:\n",
    "        # Para hacer el calculo de cada producto, multiplicamos su precio por la cantidad que hay en stock\n",
    "        precio_total = producto['Cantidad'] * producto ['Precio']\n",
    "        print('La suma del producto', producto['Nombre'], 'es igual a', precio_total,'€')\n",
    "        suma_total += precio_total # Se van guardando los resultados de la suma en la variable.\n",
    "    print('El precio total del inventario es:', suma_total,'€')\n",
    "    return"
   ]
  },
  {
   "cell_type": "code",
   "execution_count": null,
   "metadata": {},
   "outputs": [],
   "source": [
    "calcular_valor_inventario()"
   ]
  },
  {
   "cell_type": "markdown",
   "metadata": {},
   "source": [
    "Función 7. `realizar_compra()`: \n",
    "- Permite a un cliente realizar una compra seleccionando productos del inventario. Debe interactuar con el cliente para seleccionar productos y calcular el costo total de la compra. \n",
    "     - Utiliza un bucle `while` para permitir al cliente realizar múltiples compras. \n",
    " \n",
    "     - Muestra el inventario y solicita al cliente ingresar el nombre del producto que desea comprar. \n",
    " \n",
    "     - Registra los productos seleccionados en un carrito y actualiza el inventario."
   ]
  },
  {
   "cell_type": "code",
   "execution_count": 4,
   "metadata": {},
   "outputs": [],
   "source": [
    "# Funcion 7: realizar una compra\n",
    "# Defino la función\n",
    "# Uso bucle while\n",
    "# Input para interactuar con el cliente\n",
    "    # Mostrar la lista de productos al cliente\n",
    "    # Cliente elige un producto\n",
    "    # Registrar los productos en el carrito de la compra\n",
    "    # Calcular el costo de la compra\n",
    "    #Actualizar el inventario\n",
    "\n",
    "def realizar_compra():\n",
    "    coste_total = 0 # En esta variable se irá agregando el coste de los productos que compre el cliente \n",
    "    carrito = [] # En esta variable se agregarán el o los productos que el cliente elija.\n",
    "    while True:\n",
    "        print('Los productos que tenemos en nuestra tienda son:', mostrar_inventario)\n",
    "        seleccion_producto = input('Seleccione un producto de la lista:' ).lower()\n",
    "        if producto in inventario:\n",
    "            print('El producto que has seleccinado es:', producto['Nombre'])\n",
    "       "
   ]
  },
  {
   "cell_type": "code",
   "execution_count": null,
   "metadata": {},
   "outputs": [],
   "source": [
    "realizar_compra()"
   ]
  },
  {
   "cell_type": "markdown",
   "metadata": {},
   "source": [
    "Función 8. `procesar_pago()`:\n",
    " \n",
    "- Procesa el pago de una compra, calcula el cambio y muestra un mensaje de confirmación. \n",
    "      \n",
    "   - Utiliza un bloque `try...except` para manejar excepciones. \n",
    "   - Solicita al cliente ingresar la cantidad total y la cantidad de pago usando un input.       \n",
    "   - Calcula el cambio y muestra un mensaje de pago exitoso o un error en caso de monto insuficiente."
   ]
  },
  {
   "cell_type": "code",
   "execution_count": null,
   "metadata": {},
   "outputs": [],
   "source": []
  },
  {
   "cell_type": "markdown",
   "metadata": {},
   "source": [
    "Función 9. `agregar_cliente(nombre, email)`: \n",
    "\n",
    "- Agrega un nuevo cliente al registro de clientes. \n",
    "    - Agrega un cliente al diccionario de clientes con su nombre y correo electrónico. "
   ]
  },
  {
   "cell_type": "code",
   "execution_count": 27,
   "metadata": {},
   "outputs": [],
   "source": [
    "def agregar_cliente(nombre, email):\n",
    "    # Agregamos un identificador de número de cliente para que vaya sumando cada vez que agregamos un nuevo cliente al diccionario.\n",
    "    cliente_x = 'Cliente', len(clientes) + 1\n",
    "    # Para agregar nuevos clientes al diccionario agregamos la nueva clave y le damos un valor.\n",
    "    clientes [cliente_x] = {\n",
    "        'nombre' : nombre, \n",
    "        'email': email} \n",
    "    print(clientes)\n",
    "    "
   ]
  },
  {
   "cell_type": "code",
   "execution_count": null,
   "metadata": {},
   "outputs": [],
   "source": [
    "agregar_cliente('Maria Fernández', 'maria@gmail.com')"
   ]
  },
  {
   "cell_type": "code",
   "execution_count": null,
   "metadata": {},
   "outputs": [],
   "source": [
    "agregar_cliente('Fernando Jiménez', 'fer21@gmail.com')"
   ]
  },
  {
   "cell_type": "code",
   "execution_count": null,
   "metadata": {},
   "outputs": [],
   "source": [
    "agregar_cliente('Patricia Gómez', 'patri30@gmail.com')"
   ]
  },
  {
   "cell_type": "markdown",
   "metadata": {},
   "source": [
    "\n",
    "Función 10. `ver_clientes()`\n",
    "\n",
    "- Muestra la lista de clientes registrados con sus nombres y correos electrónicos. \n",
    "- Utiliza un bucle `for` para recorrer la base de datos de clientes. \n",
    "- Imprime los detalles de cada cliente (nombre y correo electrónico)."
   ]
  },
  {
   "cell_type": "code",
   "execution_count": 31,
   "metadata": {},
   "outputs": [],
   "source": [
    "def ver_clientes(clientes):\n",
    "    # Al seguir con un diccionario, usamos el método items para que recorra tanto el valor como su clave.\n",
    "    for cliente in clientes.items():\n",
    "       # Para poder visualizar este diccionario como una lista, debemos agregar: list.\n",
    "       print(list(cliente))\n",
    "    \n"
   ]
  },
  {
   "cell_type": "code",
   "execution_count": null,
   "metadata": {},
   "outputs": [],
   "source": [
    "ver_clientes(clientes)"
   ]
  },
  {
   "cell_type": "markdown",
   "metadata": {},
   "source": [
    "Función 11. `registrar_compra(nombre_cliente, carrito)`: \n",
    "\n",
    "- Registra una compra para un cliente, actualiza las ventas totales y agrega la compra al historial del cliente. Debe recibir el nombre del cliente y el carrito de compras como parámetros. \n",
    " \n",
    "- Busca al cliente en el diccionario de clientes. \n",
    " \n",
    "- Si el cliente no esta en el diccionario de clientes, muestra que no se puede realizar la acción por que el cliente no está en el diccionario.  \n",
    " \n",
    "- Calcula el total de la compra y registra la compra, incluyendo los productos y el total."
   ]
  },
  {
   "cell_type": "code",
   "execution_count": null,
   "metadata": {},
   "outputs": [],
   "source": []
  },
  {
   "cell_type": "markdown",
   "metadata": {},
   "source": [
    "Función 12. `ver_compras_cliente(nombre_cliente)`: \n",
    "\n",
    "- Muestra el historial de compras de un cliente. Debe recibir el nombre del cliente como parámetro. \n",
    " \n",
    "- Busca al cliente en el diccionario de clientes. \n",
    " \n",
    "- Muestra las compras realizadas por el cliente, incluyendo detalles de productos y totales."
   ]
  },
  {
   "cell_type": "code",
   "execution_count": null,
   "metadata": {},
   "outputs": [],
   "source": []
  },
  {
   "cell_type": "markdown",
   "metadata": {},
   "source": [
    "Función 13. `calcular_ventas_totales()`: \n",
    "\n",
    "- Muestra las ventas totales de la tienda. \n",
    " \n",
    "- Suma los totales de todas las compras realizadas y muestra el total de ventas totales en la tienda."
   ]
  },
  {
   "cell_type": "code",
   "execution_count": null,
   "metadata": {},
   "outputs": [],
   "source": []
  }
 ],
 "metadata": {
  "kernelspec": {
   "display_name": "base",
   "language": "python",
   "name": "python3"
  },
  "language_info": {
   "codemirror_mode": {
    "name": "ipython",
    "version": 3
   },
   "file_extension": ".py",
   "mimetype": "text/x-python",
   "name": "python",
   "nbconvert_exporter": "python",
   "pygments_lexer": "ipython3",
   "version": "3.12.4"
  }
 },
 "nbformat": 4,
 "nbformat_minor": 2
}
