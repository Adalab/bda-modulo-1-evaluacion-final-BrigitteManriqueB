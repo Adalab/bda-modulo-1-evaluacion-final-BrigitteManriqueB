{
 "cells": [
  {
   "cell_type": "markdown",
   "metadata": {},
   "source": [
    "## Ejercicio Final Módulo 1"
   ]
  },
  {
   "cell_type": "markdown",
   "metadata": {},
   "source": [
    "##### === Brigitte J. Manrique Báez ==="
   ]
  },
  {
   "cell_type": "markdown",
   "metadata": {},
   "source": [
    "### Estructura 1: Lista de diccionarios con productos."
   ]
  },
  {
   "cell_type": "markdown",
   "metadata": {},
   "source": [
    "#### Se crea un inventario de productos, con una estructura en forma de lista de direccionarios. Empezamos la lista vacía.\n",
    "\n",
    "    1. La lista está vacía. Creamos la lista agregando productos.\n",
    "    2. Una vez creada, se muestra el inventario.\n",
    "    3. Buscamos un producto por su nombre y mostramos los detalles si se encuentra ya registrado. \n",
    "    4. Actualizamos el stock. \n",
    "    5. Eliminamos producto.\n",
    "    6. Calculamos el valor del inventario."
   ]
  },
  {
   "cell_type": "code",
   "execution_count": 8,
   "metadata": {},
   "outputs": [],
   "source": [
    "# Se crea la lista vacia:\n",
    "\n",
    "inventario = []"
   ]
  },
  {
   "cell_type": "markdown",
   "metadata": {},
   "source": [
    "Función 1. `agregar_producto(nombre, precio, cantidad)`: \n",
    "\n",
    "- Esta función agrega un producto al inventario o actualiza su cantidad si ya existe. Debe recibir el nombre, precio y cantidad del producto como parámetros.  \n",
    "- Itera a través del inventario y compara los nombres de los productos con el nombre proporcionado. \n",
    "\n",
    "      - Si el producto ya existe, actualiza la cantidad. \n",
    "      - Si no existe, agrega un nuevo producto al inventario."
   ]
  },
  {
   "cell_type": "code",
   "execution_count": 9,
   "metadata": {},
   "outputs": [],
   "source": [
    "# Función 1: Agregamos productos al inventario\n",
    "\n",
    "def agregar_productos(nombre, precio, cantidad):\n",
    "    # Verificamos si el producto está en la lista, o no.\n",
    "    for producto in inventario:\n",
    "        if producto ['Nombre'] == nombre:\n",
    "            print (nombre, 'ya existe en el inventario. Se actualiza su stock')\n",
    "            producto['Cantidad'] += cantidad \n",
    "            return # Nos devolverá el valor más adelante.\n",
    "    # Si no está, lo agregamos. Este paso no hace falta que esté dentro de la iteración porque el bucle es para comprobar si el producto está o no.\n",
    "    nuevo_producto = {\n",
    "        'Nombre': nombre, \n",
    "        'Precio': precio, \n",
    "        'Cantidad': cantidad\n",
    "            }\n",
    "    inventario.append(nuevo_producto)"
   ]
  },
  {
   "cell_type": "code",
   "execution_count": 10,
   "metadata": {},
   "outputs": [],
   "source": [
    "# Para que se ejecute la función, primero debemos llamarla.\n",
    "\n",
    "agregar_productos('Tablero Canadiense', 45, 30)"
   ]
  },
  {
   "cell_type": "code",
   "execution_count": null,
   "metadata": {},
   "outputs": [],
   "source": [
    "# Para comprobar si se ha agregado el producto\n",
    "inventario"
   ]
  },
  {
   "cell_type": "code",
   "execution_count": null,
   "metadata": {},
   "outputs": [],
   "source": [
    "agregar_productos('Ejercitador de muñeca', 203, 10)\n",
    "agregar_productos('Cabestrillo transpirable', 12, 200)\n",
    "agregar_productos('Rueda de hombro', 395, 12)\n",
    "agregar_productos('Tablero Canadiense', 45, 5)"
   ]
  },
  {
   "cell_type": "code",
   "execution_count": null,
   "metadata": {},
   "outputs": [],
   "source": [
    "# Comprobamos que se ha actualizado el producto ya existente:\n",
    "inventario"
   ]
  },
  {
   "cell_type": "markdown",
   "metadata": {},
   "source": [
    "Función 2. `ver_inventario()`: \n",
    "\n",
    "- Muestra el inventario de productos con sus detalles. \n",
    "- Imprime los detalles (nombre, precio, cantidad) de cada producto."
   ]
  },
  {
   "cell_type": "code",
   "execution_count": 14,
   "metadata": {},
   "outputs": [],
   "source": [
    "def mostrar_inventario(inventario):\n",
    "    for producto in inventario:\n",
    "        # Ver los detalles de los productos en pantalla cuando se llame a la función.  \n",
    "        print('Nombre:', producto['Nombre'], ', Precio:', producto ['Precio'],'€' ', Cantidad:', producto ['Cantidad'])\n",
    "        "
   ]
  },
  {
   "cell_type": "code",
   "execution_count": null,
   "metadata": {},
   "outputs": [],
   "source": [
    "mostrar_inventario(inventario)"
   ]
  },
  {
   "cell_type": "markdown",
   "metadata": {},
   "source": [
    " Función 3. `buscar_producto(nombre)`: \n",
    " \n",
    " - Busca un producto en el inventario por nombre y muestra sus detalles si se encuentra. \n",
    " - Debe recibir el nombre del producto como parámetro. \n",
    " - Compara los nombres de los productos con el nombre proporcionado. \n",
    " - Si se encuentra el producto, imprime sus detalles."
   ]
  },
  {
   "cell_type": "code",
   "execution_count": 16,
   "metadata": {},
   "outputs": [],
   "source": [
    "def buscar_productos(nombre):\n",
    "    for producto in inventario:\n",
    "        #Verificamos si el producto está\n",
    "        if producto['Nombre'].lower() == nombre.lower():\n",
    "            # Mostramos los detalles por pantalla cuando la función sea llamada.\n",
    "            print('Nombre:', producto['Nombre'], ', Precio:', producto ['Precio'],'€' ', Cantidad:', producto ['Cantidad'])"
   ]
  },
  {
   "cell_type": "code",
   "execution_count": 17,
   "metadata": {},
   "outputs": [
    {
     "name": "stdout",
     "output_type": "stream",
     "text": [
      "Nombre: Tablero Canadiense , Precio: 45 €, Cantidad: 35\n"
     ]
    }
   ],
   "source": [
    "buscar_productos('Tablero Canadiense')"
   ]
  },
  {
   "cell_type": "markdown",
   "metadata": {},
   "source": [
    " Función 4. `actualizar_stock(nombre, cantidad)`: \n",
    " \n",
    "   - Actualiza el stock de un producto en el inventario. \n",
    "   - Debe recibir el nombre del producto y la cantidad a agregar o quitar como parámetros. \n",
    "   - Busca el producto por nombre.\n",
    "   - Actualiza la cantidad según la entrada del usuario. \n",
    "   - Si el producto no esta en el inventario muestra un mensaje indicándolo."
   ]
  },
  {
   "cell_type": "code",
   "execution_count": 18,
   "metadata": {},
   "outputs": [],
   "source": [
    "def actualizar_stock(nombre, cantidad):\n",
    "    #Verificamos si el producto está o no\n",
    "    for producto in inventario:\n",
    "        if producto ['Nombre'].lower() == nombre.lower():\n",
    "            # Si está actualizamos su stock\n",
    "            print('El producto si existe y se va a actualizar')\n",
    "            producto ['Cantidad'] += cantidad\n",
    "            print('La cantidad del producto', producto ['Nombre'], 'se ha actualizado a', producto ['Cantidad'], 'unidades en total.')\n",
    "            return\n",
    "    else:\n",
    "        print('Este producto no existe en el inventario')\n",
    "\n",
    "    "
   ]
  },
  {
   "cell_type": "code",
   "execution_count": null,
   "metadata": {},
   "outputs": [],
   "source": [
    "actualizar_stock('Pelota', 20)"
   ]
  },
  {
   "cell_type": "markdown",
   "metadata": {},
   "source": [
    "Función 5. `eliminar_producto(nombre)`: \n",
    "- Elimina un producto del inventario por nombre. \n",
    "    - Busca el producto por nombre. \n",
    "        - Elimina el producto del inventario si existe. \n",
    "        - Si el producto no esta en el inventario muestra un mensaje indicándolo."
   ]
  },
  {
   "cell_type": "code",
   "execution_count": 20,
   "metadata": {},
   "outputs": [],
   "source": [
    "def eliminar_producto(nombre):\n",
    "  for producto in inventario:\n",
    "    if producto ['Nombre'] == nombre:\n",
    "      #Aplicamos al inventario el método pop para eliminar el producto de la lista.\n",
    "      inventario.pop(0)\n",
    "      print(f'El producto {nombre} se acaba de eliminar')\n",
    "      return\n",
    "  else:\n",
    "      print(f'El producto {nombre} no existe' )"
   ]
  },
  {
   "cell_type": "code",
   "execution_count": null,
   "metadata": {},
   "outputs": [],
   "source": [
    "eliminar_producto('Tablero Canadiense')"
   ]
  },
  {
   "cell_type": "markdown",
   "metadata": {},
   "source": [
    "Función 6. `calcular_valor_inventario()`: \n",
    "\n",
    "- Calcula y muestra el valor total del inventario.  \n",
    "    "
   ]
  },
  {
   "cell_type": "code",
   "execution_count": null,
   "metadata": {},
   "outputs": [],
   "source": []
  },
  {
   "cell_type": "markdown",
   "metadata": {},
   "source": [
    "### Estructura 2: Diccionario de clientes."
   ]
  },
  {
   "cell_type": "markdown",
   "metadata": {},
   "source": [
    "#### Se crea un diccionario de clientes para llevar el registro de clientes que tiene la tienda. Empezamos con un diccionario vacío.\n",
    "\n",
    "    1. El diccionario está vacío. Lo creamos agregando clientes y se realiza una compra.\n",
    "    2. Se procesa un pago.\n",
    "    3. Se agregan más clientes al diccionario. \n",
    "    4. Se visualizan los clientes. \n",
    "    5. Se registra una compra para un cliente.\n",
    "    6. Se miran las compras del cliente."
   ]
  },
  {
   "cell_type": "code",
   "execution_count": 22,
   "metadata": {},
   "outputs": [],
   "source": [
    "# Se crea el diccionario vacio.compile\n",
    "\n",
    "Clientes = {}"
   ]
  },
  {
   "cell_type": "markdown",
   "metadata": {},
   "source": [
    "Función 7. `realizar_compra()`: \n",
    "- Permite a un cliente realizar una compra seleccionando productos del inventario. Debe interactuar con el cliente para seleccionar productos y calcular el costo total de la compra. \n",
    "     - Utiliza un bucle `while` para permitir al cliente realizar múltiples compras. \n",
    " \n",
    "     - Muestra el inventario y solicita al cliente ingresar el nombre del producto que desea comprar. \n",
    " \n",
    "     - Registra los productos seleccionados en un carrito y actualiza el inventario."
   ]
  },
  {
   "cell_type": "code",
   "execution_count": null,
   "metadata": {},
   "outputs": [],
   "source": []
  }
 ],
 "metadata": {
  "kernelspec": {
   "display_name": "base",
   "language": "python",
   "name": "python3"
  },
  "language_info": {
   "codemirror_mode": {
    "name": "ipython",
    "version": 3
   },
   "file_extension": ".py",
   "mimetype": "text/x-python",
   "name": "python",
   "nbconvert_exporter": "python",
   "pygments_lexer": "ipython3",
   "version": "3.12.4"
  }
 },
 "nbformat": 4,
 "nbformat_minor": 2
}
